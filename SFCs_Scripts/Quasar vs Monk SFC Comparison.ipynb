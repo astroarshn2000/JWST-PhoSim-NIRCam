{
 "cells": [
  {
   "cell_type": "markdown",
   "metadata": {},
   "source": [
    "# Comparing Source Flux Counts for Quasar (Mac) v/s Monk (Linux)\n"
   ]
  },
  {
   "cell_type": "markdown",
   "metadata": {},
   "source": [
    "## Import Libraries"
   ]
  },
  {
   "cell_type": "code",
   "execution_count": 3,
   "metadata": {},
   "outputs": [],
   "source": [
    "from prob140 import Table\n",
    "from datascience import make_array\n",
    "import numpy as np\n",
    "from astropy import units as u"
   ]
  },
  {
   "cell_type": "markdown",
   "metadata": {},
   "source": [
    "## Observed SFCs\n",
    "\n"
   ]
  },
  {
   "cell_type": "code",
   "execution_count": 6,
   "metadata": {},
   "outputs": [
    {
     "data": {
      "text/html": [
       "<table border=\"1\" class=\"dataframe\">\n",
       "    <thead>\n",
       "        <tr>\n",
       "            <th>PhoSim-NIRCam Version</th> <th>QUASAR LW (F365W) SFCs</th> <th>QUASAR SW (F200W) SFCs</th> <th>MONK LW (F365W) SFCs</th> <th>MONK SW (F200W) SFCs</th>\n",
       "        </tr>\n",
       "    </thead>\n",
       "    <tbody>\n",
       "        <tr>\n",
       "            <td>Old                  </td> <td>110233                </td> <td>121224                </td> <td>153418              </td> <td>167265              </td>\n",
       "        </tr>\n",
       "        <tr>\n",
       "            <td>New (v5.1.7)         </td> <td>39985                 </td> <td>42085                 </td> <td>0                   </td> <td>0                   </td>\n",
       "        </tr>\n",
       "    </tbody>\n",
       "</table>"
      ],
      "text/plain": [
       "PhoSim-NIRCam Version | QUASAR LW (F365W) SFCs | QUASAR SW (F200W) SFCs | MONK LW (F365W) SFCs | MONK SW (F200W) SFCs\n",
       "Old                   | 110233                 | 121224                 | 153418               | 167265\n",
       "New (v5.1.7)          | 39985                  | 42085                  | 0                    | 0"
      ]
     },
     "execution_count": 6,
     "metadata": {},
     "output_type": "execute_result"
    }
   ],
   "source": [
    "table_data = Table().with_columns(\n",
    "    'PhoSim-NIRCam Version', make_array('Old','New (v5.1.7)'),\n",
    "    'QUASAR LW (F365W) SFCs', make_array(110233,39985),\n",
    "    'QUASAR SW (F200W) SFCs', make_array(121224,42085),\n",
    "    'MONK LW (F365W) SFCs', make_array(153418,0),\n",
    "    'MONK SW (F200W) SFCs', make_array(167265,0))\n",
    "table_data"
   ]
  },
  {
   "cell_type": "markdown",
   "metadata": {},
   "source": [
    "## Calculate Uncertainties\n"
   ]
  },
  {
   "cell_type": "markdown",
   "metadata": {},
   "source": [
    "### Eiichi's Value (Known)"
   ]
  },
  {
   "cell_type": "code",
   "execution_count": 3,
   "metadata": {},
   "outputs": [],
   "source": [
    "# Eiichi's Linux Values from Guide:\n",
    "eiichi_val_F200W = 167268 #F200W = 167268\n",
    "eiichi_val_F365W = 153418 #F365W = 153418"
   ]
  },
  {
   "cell_type": "markdown",
   "metadata": {},
   "source": [
    "### Percentage Error Function"
   ]
  },
  {
   "cell_type": "markdown",
   "metadata": {},
   "source": [
    "#### *Percentage Errors between Arsh's (Linux and Mac) and Eiichi's (Linux) values*"
   ]
  },
  {
   "cell_type": "code",
   "execution_count": 22,
   "metadata": {},
   "outputs": [],
   "source": [
    "# Old PhoSim - NIRCam\n",
    " # Percentage Error for F356W (LW)\n",
    "def perror_F356W(arsh_val_F365W):\n",
    "    per = (((153418 - arsh_val_F365W)/153418)*100)\n",
    "    return abs(per)\n",
    " # Percentage Error for F200W (SW)\n",
    "def perror_F200W(arsh_val_F200W):\n",
    "    per = (((167268 - arsh_val_F200W)/167268)*100)\n",
    "    return abs(per)"
   ]
  },
  {
   "cell_type": "code",
   "execution_count": null,
   "metadata": {},
   "outputs": [],
   "source": [
    "# New PhoSim - NIRCam (v5.1.7)\n",
    " # Percentage Error for F356W (LW)\n",
    "def perror_F356W_new(arsh_val_new_F365W):\n",
    "    per = (((153418 - arsh_val_new_F365W)/153418)*100)\n",
    "    return abs(per)\n",
    " # Percentage Error for F200W (SW)\n",
    "def perror_F200W_new(arsh_val_new_F200W):\n",
    "    per = (((167268 - arsh_val_new_F200W)/167268)*100)\n",
    "    return abs(per)"
   ]
  },
  {
   "cell_type": "markdown",
   "metadata": {},
   "source": [
    "### Arsh's Values from Quasar and Monk (Experimental)"
   ]
  },
  {
   "cell_type": "code",
   "execution_count": 17,
   "metadata": {},
   "outputs": [],
   "source": [
    "# Old PhoSim-NIRCam Version\n",
    "quasar_val_F356W = 110233\n",
    "quasar_val_F200W = 121224\n",
    "monk_val_F365W = 153418 \n",
    "monk_val_F200W = 167265"
   ]
  },
  {
   "cell_type": "code",
   "execution_count": 6,
   "metadata": {},
   "outputs": [],
   "source": [
    "# New PhoSim-NIRCam Version\n",
    "quasar_val_new_F356W = 556520\n",
    "quasar_val_new_F200W = 425109\n",
    "monk_val_new_F365W = 551990\n",
    "monk_val_new_F200W = 426095"
   ]
  },
  {
   "cell_type": "markdown",
   "metadata": {},
   "source": [
    "### Calculate Error Percentages"
   ]
  },
  {
   "cell_type": "markdown",
   "metadata": {},
   "source": [
    "#### Percentage Errors for Old PhoSim - NIRCam"
   ]
  },
  {
   "cell_type": "code",
   "execution_count": 27,
   "metadata": {},
   "outputs": [
    {
     "data": {
      "text/plain": [
       "28.14858751906556"
      ]
     },
     "execution_count": 27,
     "metadata": {},
     "output_type": "execute_result"
    }
   ],
   "source": [
    "# Quasar - F356W\n",
    "perror_F356W(quasar_val_F356W)"
   ]
  },
  {
   "cell_type": "code",
   "execution_count": 24,
   "metadata": {},
   "outputs": [
    {
     "data": {
      "text/plain": [
       "27.52708228710811"
      ]
     },
     "execution_count": 24,
     "metadata": {},
     "output_type": "execute_result"
    }
   ],
   "source": [
    "# Quasar - F200W\n",
    "perror_F200W(quasar_val_F200W)"
   ]
  },
  {
   "cell_type": "code",
   "execution_count": 25,
   "metadata": {},
   "outputs": [
    {
     "data": {
      "text/plain": [
       "0.0"
      ]
     },
     "execution_count": 25,
     "metadata": {},
     "output_type": "execute_result"
    }
   ],
   "source": [
    "# Monk - F356W\n",
    "perror_F356(monk_val_F365W)"
   ]
  },
  {
   "cell_type": "code",
   "execution_count": 26,
   "metadata": {},
   "outputs": [
    {
     "data": {
      "text/plain": [
       "0.0017935289475572134"
      ]
     },
     "execution_count": 26,
     "metadata": {},
     "output_type": "execute_result"
    }
   ],
   "source": [
    "# Monk - F200W\n",
    "perror_F200W(monk_val_F200W)"
   ]
  },
  {
   "cell_type": "markdown",
   "metadata": {},
   "source": [
    "#### Percentage Errors for New PhoSim - NIRCam (v5.1.7)"
   ]
  },
  {
   "cell_type": "code",
   "execution_count": null,
   "metadata": {},
   "outputs": [],
   "source": []
  }
 ],
 "metadata": {
  "kernelspec": {
   "display_name": "Python 3",
   "language": "python",
   "name": "python3"
  },
  "language_info": {
   "codemirror_mode": {
    "name": "ipython",
    "version": 3
   },
   "file_extension": ".py",
   "mimetype": "text/x-python",
   "name": "python",
   "nbconvert_exporter": "python",
   "pygments_lexer": "ipython3",
   "version": "3.7.3"
  }
 },
 "nbformat": 4,
 "nbformat_minor": 2
}
